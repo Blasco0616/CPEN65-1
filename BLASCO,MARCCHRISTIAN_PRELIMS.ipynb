{
  "nbformat": 4,
  "nbformat_minor": 0,
  "metadata": {
    "colab": {
      "provenance": [],
      "authorship_tag": "ABX9TyM1M8Q3MNgGMPELBwMlk7JH",
      "include_colab_link": true
    },
    "kernelspec": {
      "name": "python3",
      "display_name": "Python 3"
    },
    "language_info": {
      "name": "python"
    }
  },
  "cells": [
    {
      "cell_type": "markdown",
      "metadata": {
        "id": "view-in-github",
        "colab_type": "text"
      },
      "source": [
        "<a href=\"https://colab.research.google.com/github/Blasco0616/CPEN65-1/blob/main/BLASCO%2CMARCCHRISTIAN_PRELIMS.ipynb\" target=\"_parent\"><img src=\"https://colab.research.google.com/assets/colab-badge.svg\" alt=\"Open In Colab\"/></a>"
      ]
    },
    {
      "cell_type": "code",
      "execution_count": 9,
      "metadata": {
        "id": "SIHh6YZ_5wwh"
      },
      "outputs": [],
      "source": [
        "class Rectangle:\n",
        "  def __init__(self,lenght,width):\n",
        "    self.length= length\n",
        "    self.width = width\n",
        "\n",
        "def Area(self):\n",
        "  print(self.lenght*self.width)\n",
        "\n",
        "  rect= Rectangle(7,3)\n",
        "  rect.Area"
      ]
    },
    {
      "cell_type": "code",
      "source": [
        "class Person:\n",
        "  def __init__(self,name,age):\n",
        "    self.name= name\n",
        "    self.age = age\n",
        "person= Person(\"Ana\",39)\n",
        "print(person.name)\n",
        "print(person.age)"
      ],
      "metadata": {
        "colab": {
          "base_uri": "https://localhost:8080/"
        },
        "id": "WE9pnEfi7Jaw",
        "outputId": "e80d2728-d4eb-4df0-9a70-de784861a93e"
      },
      "execution_count": 15,
      "outputs": [
        {
          "output_type": "stream",
          "name": "stdout",
          "text": [
            "Ana\n",
            "39\n"
          ]
        }
      ]
    }
  ]
}