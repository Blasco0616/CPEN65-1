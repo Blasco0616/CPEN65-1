{
  "nbformat": 4,
  "nbformat_minor": 0,
  "metadata": {
    "colab": {
      "provenance": [],
      "authorship_tag": "ABX9TyPGOjqoFPW2RCNPWWyR1dC7",
      "include_colab_link": true
    },
    "kernelspec": {
      "name": "python3",
      "display_name": "Python 3"
    },
    "language_info": {
      "name": "python"
    }
  },
  "cells": [
    {
      "cell_type": "markdown",
      "metadata": {
        "id": "view-in-github",
        "colab_type": "text"
      },
      "source": [
        "<a href=\"https://colab.research.google.com/github/Blasco0616/CPEN65-1/blob/main/Blasc_MarcChristianMidterm_Exam.ipynb\" target=\"_parent\"><img src=\"https://colab.research.google.com/assets/colab-badge.svg\" alt=\"Open In Colab\"/></a>"
      ]
    },
    {
      "cell_type": "code",
      "execution_count": 25,
      "metadata": {
        "colab": {
          "base_uri": "https://localhost:8080/"
        },
        "id": "acWX180JGp4W",
        "outputId": "3e0bc61f-51d9-42f9-ace1-6e1bc2ad4724"
      },
      "outputs": [
        {
          "output_type": "stream",
          "name": "stdout",
          "text": [
            "1\n",
            "55\n"
          ]
        }
      ],
      "source": [
        "a = (1,2,3,4,5,6,7,8,9,10)\n",
        "one = a[0]\n",
        "two = a[1]\n",
        "three = a[2]\n",
        "four = a[3]\n",
        "five = a[4]\n",
        "six = a[5]\n",
        "seven = a[6]\n",
        "eight = a[7]\n",
        "nine = a[8]\n",
        "ten = a[9]\n",
        "ans= sum(a)\n",
        "print(one)\n",
        "print(ans)"
      ]
    },
    {
      "cell_type": "code",
      "source": [
        "a=[1,2,3,4,5,6,7,8,9,10]\n",
        "a.append(11)\n",
        "print(a)"
      ],
      "metadata": {
        "colab": {
          "base_uri": "https://localhost:8080/"
        },
        "id": "P-9M5XyGIfBN",
        "outputId": "ceebcb85-9b3c-472f-9b80-5a00edecdd3c"
      },
      "execution_count": 14,
      "outputs": [
        {
          "output_type": "stream",
          "name": "stdout",
          "text": [
            "[1, 2, 3, 4, 5, 6, 7, 8, 9, 10, 11]\n"
          ]
        }
      ]
    },
    {
      "cell_type": "code",
      "source": [
        "a=[1,2,3,4,5,6,7,8,9,10]\n",
        "a.insert(9,11)\n",
        "print(a)"
      ],
      "metadata": {
        "colab": {
          "base_uri": "https://localhost:8080/"
        },
        "id": "woRZUAskJ4md",
        "outputId": "92b104cc-a609-4c0e-d1e3-119df5b940cd"
      },
      "execution_count": 20,
      "outputs": [
        {
          "output_type": "stream",
          "name": "stdout",
          "text": [
            "[1, 2, 3, 4, 5, 6, 7, 8, 9, 11, 10]\n"
          ]
        }
      ]
    },
    {
      "cell_type": "code",
      "source": [
        "a=[1,2,3,4,5]\n",
        "a.reverse();\n",
        "print(a)"
      ],
      "metadata": {
        "colab": {
          "base_uri": "https://localhost:8080/"
        },
        "id": "PaYldmmhKwom",
        "outputId": "414e6251-4296-4e51-eb67-e97605e7339c"
      },
      "execution_count": 19,
      "outputs": [
        {
          "output_type": "stream",
          "name": "stdout",
          "text": [
            "[5, 4, 3, 2, 1]\n"
          ]
        }
      ]
    },
    {
      "cell_type": "code",
      "source": [
        "a = [6,7,8,6,9]\n",
        "b = len(a)\n",
        "\n",
        "def findRepeated(a, b):\n",
        "  a.sort()\n",
        "  for i in range(1, b):\n",
        "    if (a[i] !=i+1):\n",
        "      return a[i]\n",
        "print(findRepeated(a,b))"
      ],
      "metadata": {
        "colab": {
          "base_uri": "https://localhost:8080/"
        },
        "id": "CZDRoLgALY1N",
        "outputId": "91c0d7b9-b23f-4c75-f0cd-f69ee517dd60"
      },
      "execution_count": 43,
      "outputs": [
        {
          "output_type": "stream",
          "name": "stdout",
          "text": [
            "6\n"
          ]
        }
      ]
    }
  ]
}